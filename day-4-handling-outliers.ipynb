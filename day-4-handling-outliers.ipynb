{
 "cells": [
  {
   "cell_type": "markdown",
   "metadata": {},
   "source": [
    "# 🚨 Day-3: Outlier Detection\n",
    "---\n",
    "## 🌟 What are Outliers?\n",
    "\n",
    "**Outliers** are data points that are significantly different from the rest of the data.  \n",
    "They can be unusually **high** or **low** compared to other values.\n",
    "\n",
    "Example:  \n",
    "If most students scored between **60 to 90 marks**, but one student scored **5 marks** and another scored **100 marks**, these two are considered **outliers**.\n",
    "\n",
    "---\n",
    "## 🔥 Why Detect Outliers?\n",
    "\n",
    "Outliers can:\n",
    "- Distort summary statistics (Mean, Standard Deviation, etc.)\n",
    "- Affect visualizations\n",
    "- Mislead Machine Learning models\n",
    "- Impact data distribution and model accuracy\n",
    "---\n",
    "\n",
    "## 🎯 How to Detect Outliers?\n",
    "\n",
    "| Method              | Description  \n",
    "                                                    \n",
    "| **IQR Method**      | Values outside the **IQR range** are considered outliers|\n",
    "\n",
    "| **Z-Score Method**  | Data points with Z-score > 3 or < -3 are outliers|"
   ]
  },
  {
   "cell_type": "code",
   "execution_count": 22,
   "metadata": {},
   "outputs": [],
   "source": [
    "import seaborn as sns\n",
    "import pandas as pd\n",
    "import matplotlib.pyplot as plt"
   ]
  },
  {
   "cell_type": "code",
   "execution_count": null,
   "metadata": {},
   "outputs": [],
   "source": [
    "#sample data\n",
    "data = {'Value': [5, 7, 9, 10, 15, 18, 21, 25, 30, 35, 40, 100, 150]}\n",
    "df = pd.DataFrame(data)"
   ]
  },
  {
   "cell_type": "markdown",
   "metadata": {},
   "source": [
    "IQR METHOD"
   ]
  },
  {
   "cell_type": "code",
   "execution_count": 34,
   "metadata": {},
   "outputs": [
    {
     "name": "stdout",
     "output_type": "stream",
     "text": [
      "IQR: 25.0\n",
      "Lower Bound: -27.5\n",
      "Upper Bound: 72.5\n",
      "\n",
      "Outliers:\n",
      "    Value\n",
      "11    100\n",
      "12    150\n"
     ]
    }
   ],
   "source": [
    "# Compute Q1, Q3\n",
    "Q1 = df['Value'].quantile(0.25)  # First Quartile (25th percentile)\n",
    "Q3 = df['Value'].quantile(0.75)  # Third Quartile (75th percentile)\n",
    "\n",
    "# Compute IQR\n",
    "IQR = Q3 - Q1  \n",
    "\n",
    "# Compute lower and upper bounds\n",
    "lower_bound = Q1 - 1.5 * IQR\n",
    "upper_bound = Q3 + 1.5 * IQR\n",
    "\n",
    "# Print results\n",
    "print(f\"IQR: {IQR}\")\n",
    "print(f\"Lower Bound: {lower_bound}\")\n",
    "print(f\"Upper Bound: {upper_bound}\")\n",
    "\n",
    "# Find outliers\n",
    "outliers = df[(df['Value'] < lower_bound) | (df['Value'] > upper_bound)]\n",
    "print(\"\\nOutliers:\")\n",
    "print(outliers)\n",
    "\n"
   ]
  },
  {
   "cell_type": "code",
   "execution_count": null,
   "metadata": {},
   "outputs": [
    {
     "name": "stdout",
     "output_type": "stream",
     "text": [
      "    Value\n",
      "0       5\n",
      "1       7\n",
      "2       9\n",
      "3      10\n",
      "4      15\n",
      "5      18\n",
      "6      21\n",
      "7      25\n",
      "8      30\n",
      "9      35\n",
      "10     40\n"
     ]
    }
   ],
   "source": [
    "#df with no outliers\n",
    "df_cleaned = df[(df['Value'] >= lower_bound) & (df['Value'] <= upper_bound)]\n",
    "print(df_cleaned)"
   ]
  },
  {
   "cell_type": "markdown",
   "metadata": {},
   "source": [
    "capping outliers\n",
    "which means replacing extreme values with nearest acceptable limit instead of removing them. this is useful when outliers have important info. "
   ]
  },
  {
   "cell_type": "code",
   "execution_count": 36,
   "metadata": {},
   "outputs": [
    {
     "name": "stdout",
     "output_type": "stream",
     "text": [
      "    Value\n",
      "0     5.0\n",
      "1     7.0\n",
      "2     9.0\n",
      "3    10.0\n",
      "4    15.0\n",
      "5    18.0\n",
      "6    21.0\n",
      "7    25.0\n",
      "8    30.0\n",
      "9    35.0\n",
      "10   40.0\n",
      "11   72.5\n",
      "12   72.5\n"
     ]
    }
   ],
   "source": [
    "#capping\n",
    "df['Value'] = df['Value'].apply(lambda x: upper_bound if x > upper_bound else lower_bound if x < lower_bound else x)\n",
    "print(df)"
   ]
  },
  {
   "cell_type": "markdown",
   "metadata": {},
   "source": [
    "USING \"Z\" METHOD"
   ]
  },
  {
   "cell_type": "code",
   "execution_count": null,
   "metadata": {},
   "outputs": [
    {
     "name": "stdout",
     "output_type": "stream",
     "text": [
      "35.76923076923077 \n",
      " 21.0\n"
     ]
    }
   ],
   "source": [
    "mean = df['Value'].mean()\n",
    "std_dev = df['Value'].std()\n",
    "print(mean,\"\\n\",std_dev)"
   ]
  },
  {
   "cell_type": "code",
   "execution_count": null,
   "metadata": {},
   "outputs": [
    {
     "data": {
      "text/html": [
       "<div>\n",
       "<style scoped>\n",
       "    .dataframe tbody tr th:only-of-type {\n",
       "        vertical-align: middle;\n",
       "    }\n",
       "\n",
       "    .dataframe tbody tr th {\n",
       "        vertical-align: top;\n",
       "    }\n",
       "\n",
       "    .dataframe thead th {\n",
       "        text-align: right;\n",
       "    }\n",
       "</style>\n",
       "<table border=\"1\" class=\"dataframe\">\n",
       "  <thead>\n",
       "    <tr style=\"text-align: right;\">\n",
       "      <th></th>\n",
       "      <th>Value</th>\n",
       "      <th>zscore</th>\n",
       "    </tr>\n",
       "  </thead>\n",
       "  <tbody>\n",
       "    <tr>\n",
       "      <th>0</th>\n",
       "      <td>5</td>\n",
       "      <td>-2.118145</td>\n",
       "    </tr>\n",
       "    <tr>\n",
       "      <th>1</th>\n",
       "      <td>7</td>\n",
       "      <td>-1.980466</td>\n",
       "    </tr>\n",
       "    <tr>\n",
       "      <th>2</th>\n",
       "      <td>9</td>\n",
       "      <td>-1.842786</td>\n",
       "    </tr>\n",
       "    <tr>\n",
       "      <th>3</th>\n",
       "      <td>10</td>\n",
       "      <td>-1.773947</td>\n",
       "    </tr>\n",
       "    <tr>\n",
       "      <th>4</th>\n",
       "      <td>15</td>\n",
       "      <td>-1.429748</td>\n",
       "    </tr>\n",
       "    <tr>\n",
       "      <th>5</th>\n",
       "      <td>18</td>\n",
       "      <td>-1.223229</td>\n",
       "    </tr>\n",
       "    <tr>\n",
       "      <th>6</th>\n",
       "      <td>21</td>\n",
       "      <td>-1.016710</td>\n",
       "    </tr>\n",
       "    <tr>\n",
       "      <th>7</th>\n",
       "      <td>25</td>\n",
       "      <td>-0.741351</td>\n",
       "    </tr>\n",
       "    <tr>\n",
       "      <th>8</th>\n",
       "      <td>30</td>\n",
       "      <td>-0.397152</td>\n",
       "    </tr>\n",
       "    <tr>\n",
       "      <th>9</th>\n",
       "      <td>35</td>\n",
       "      <td>-0.052954</td>\n",
       "    </tr>\n",
       "    <tr>\n",
       "      <th>10</th>\n",
       "      <td>40</td>\n",
       "      <td>0.291245</td>\n",
       "    </tr>\n",
       "    <tr>\n",
       "      <th>11</th>\n",
       "      <td>100</td>\n",
       "      <td>4.421628</td>\n",
       "    </tr>\n",
       "    <tr>\n",
       "      <th>12</th>\n",
       "      <td>150</td>\n",
       "      <td>7.863614</td>\n",
       "    </tr>\n",
       "  </tbody>\n",
       "</table>\n",
       "</div>"
      ],
      "text/plain": [
       "    Value    zscore\n",
       "0       5 -2.118145\n",
       "1       7 -1.980466\n",
       "2       9 -1.842786\n",
       "3      10 -1.773947\n",
       "4      15 -1.429748\n",
       "5      18 -1.223229\n",
       "6      21 -1.016710\n",
       "7      25 -0.741351\n",
       "8      30 -0.397152\n",
       "9      35 -0.052954\n",
       "10     40  0.291245\n",
       "11    100  4.421628\n",
       "12    150  7.863614"
      ]
     },
     "execution_count": 71,
     "metadata": {},
     "output_type": "execute_result"
    }
   ],
   "source": [
    "#z fomula:\n",
    "df['zscore'] = (df['Value'] - mean)/std_dev\n",
    "df"
   ]
  },
  {
   "cell_type": "code",
   "execution_count": null,
   "metadata": {},
   "outputs": [
    {
     "data": {
      "text/html": [
       "<div>\n",
       "<style scoped>\n",
       "    .dataframe tbody tr th:only-of-type {\n",
       "        vertical-align: middle;\n",
       "    }\n",
       "\n",
       "    .dataframe tbody tr th {\n",
       "        vertical-align: top;\n",
       "    }\n",
       "\n",
       "    .dataframe thead th {\n",
       "        text-align: right;\n",
       "    }\n",
       "</style>\n",
       "<table border=\"1\" class=\"dataframe\">\n",
       "  <thead>\n",
       "    <tr style=\"text-align: right;\">\n",
       "      <th></th>\n",
       "      <th>Value</th>\n",
       "      <th>zscore</th>\n",
       "    </tr>\n",
       "  </thead>\n",
       "  <tbody>\n",
       "    <tr>\n",
       "      <th>11</th>\n",
       "      <td>100</td>\n",
       "      <td>4.421628</td>\n",
       "    </tr>\n",
       "    <tr>\n",
       "      <th>12</th>\n",
       "      <td>150</td>\n",
       "      <td>7.863614</td>\n",
       "    </tr>\n",
       "  </tbody>\n",
       "</table>\n",
       "</div>"
      ],
      "text/plain": [
       "    Value    zscore\n",
       "11    100  4.421628\n",
       "12    150  7.863614"
      ]
     },
     "execution_count": 73,
     "metadata": {},
     "output_type": "execute_result"
    }
   ],
   "source": [
    "#these are the outliers\n",
    "outliers = df[(df['zscore']<-3)|(df['zscore']>3)]\n",
    "outliers"
   ]
  },
  {
   "cell_type": "code",
   "execution_count": null,
   "metadata": {},
   "outputs": [
    {
     "data": {
      "text/html": [
       "<div>\n",
       "<style scoped>\n",
       "    .dataframe tbody tr th:only-of-type {\n",
       "        vertical-align: middle;\n",
       "    }\n",
       "\n",
       "    .dataframe tbody tr th {\n",
       "        vertical-align: top;\n",
       "    }\n",
       "\n",
       "    .dataframe thead th {\n",
       "        text-align: right;\n",
       "    }\n",
       "</style>\n",
       "<table border=\"1\" class=\"dataframe\">\n",
       "  <thead>\n",
       "    <tr style=\"text-align: right;\">\n",
       "      <th></th>\n",
       "      <th>Value</th>\n",
       "      <th>zscore</th>\n",
       "    </tr>\n",
       "  </thead>\n",
       "  <tbody>\n",
       "    <tr>\n",
       "      <th>0</th>\n",
       "      <td>5</td>\n",
       "      <td>-2.118145</td>\n",
       "    </tr>\n",
       "    <tr>\n",
       "      <th>1</th>\n",
       "      <td>7</td>\n",
       "      <td>-1.980466</td>\n",
       "    </tr>\n",
       "    <tr>\n",
       "      <th>2</th>\n",
       "      <td>9</td>\n",
       "      <td>-1.842786</td>\n",
       "    </tr>\n",
       "    <tr>\n",
       "      <th>3</th>\n",
       "      <td>10</td>\n",
       "      <td>-1.773947</td>\n",
       "    </tr>\n",
       "    <tr>\n",
       "      <th>4</th>\n",
       "      <td>15</td>\n",
       "      <td>-1.429748</td>\n",
       "    </tr>\n",
       "    <tr>\n",
       "      <th>5</th>\n",
       "      <td>18</td>\n",
       "      <td>-1.223229</td>\n",
       "    </tr>\n",
       "    <tr>\n",
       "      <th>6</th>\n",
       "      <td>21</td>\n",
       "      <td>-1.016710</td>\n",
       "    </tr>\n",
       "    <tr>\n",
       "      <th>7</th>\n",
       "      <td>25</td>\n",
       "      <td>-0.741351</td>\n",
       "    </tr>\n",
       "    <tr>\n",
       "      <th>8</th>\n",
       "      <td>30</td>\n",
       "      <td>-0.397152</td>\n",
       "    </tr>\n",
       "    <tr>\n",
       "      <th>9</th>\n",
       "      <td>35</td>\n",
       "      <td>-0.052954</td>\n",
       "    </tr>\n",
       "    <tr>\n",
       "      <th>10</th>\n",
       "      <td>40</td>\n",
       "      <td>0.291245</td>\n",
       "    </tr>\n",
       "  </tbody>\n",
       "</table>\n",
       "</div>"
      ],
      "text/plain": [
       "    Value    zscore\n",
       "0       5 -2.118145\n",
       "1       7 -1.980466\n",
       "2       9 -1.842786\n",
       "3      10 -1.773947\n",
       "4      15 -1.429748\n",
       "5      18 -1.223229\n",
       "6      21 -1.016710\n",
       "7      25 -0.741351\n",
       "8      30 -0.397152\n",
       "9      35 -0.052954\n",
       "10     40  0.291245"
      ]
     },
     "execution_count": 75,
     "metadata": {},
     "output_type": "execute_result"
    }
   ],
   "source": [
    "#df with no outliers\n",
    "df_no_outliers = df[(df['zscore']>-3)&(df['zscore']<3)]\n",
    "df_no_outliers"
   ]
  },
  {
   "cell_type": "markdown",
   "metadata": {},
   "source": [
    "🎯 Pro Tip:\n",
    "Always analyze whether to:\n",
    "\n",
    "-Remove outliers\n",
    "(or)\n",
    "-Cap outliers (replace extreme values)\n",
    "(or)\n",
    "-Keep them (if they carry important information)"
   ]
  }
 ],
 "metadata": {
  "kernelspec": {
   "display_name": "Python 3",
   "language": "python",
   "name": "python3"
  },
  "language_info": {
   "codemirror_mode": {
    "name": "ipython",
    "version": 3
   },
   "file_extension": ".py",
   "mimetype": "text/x-python",
   "name": "python",
   "nbconvert_exporter": "python",
   "pygments_lexer": "ipython3",
   "version": "3.12.6"
  }
 },
 "nbformat": 4,
 "nbformat_minor": 2
}
