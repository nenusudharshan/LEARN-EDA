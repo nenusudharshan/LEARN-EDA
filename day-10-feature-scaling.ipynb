{
 "cells": [
  {
   "cell_type": "markdown",
   "metadata": {},
   "source": [
    "# 🚀 Day-11: Feature Engineering\n",
    "\n",
    "---\n",
    "\n",
    "## 🌟 What is Feature Engineering?\n",
    "\n",
    "**Feature Engineering** is the process of **creating new features**, **modifying existing ones**, or **removing irrelevant features** to improve the performance of Machine Learning models.\n",
    "\n",
    "It helps to:\n",
    "- Improve the **quality of input data**\n",
    "- Enhance **model accuracy and performance**\n",
    "- Reduce **noise and irrelevant information**\n",
    "\n",
    "---\n",
    "\n",
    "## 🔥 Why Feature Engineering?\n",
    "\n",
    "A Machine Learning model is only as good as the data you feed into it.  \n",
    "**Feature Engineering bridges the gap between raw data and meaningful patterns.**\n",
    "\n",
    "---\n",
    "\n",
    "## 🎯 Common Feature Engineering Techniques\n",
    "\n",
    "| Technique                          | Description                                              |\n",
    "|------------------------------------|----------------------------------------------------------|\n",
    "| **Creating New Features**         | Deriving new variables from existing data                |\n",
    "| **Removing Irrelevant Features**  | Dropping unnecessary columns                             |\n",
    "| **Feature Transformation**        | Applying mathematical functions (Log, Square, etc.)      |\n",
    "| **Binning/Bucketing**             | Converting continuous variables into categorical bins    |\n",
    "| **Date/Time Feature Extraction**  | Extracting year, month, day, etc., from date columns     |\n",
    "| **Handling Categorical Variables**| Encoding techniques (One-Hot, Label Encoding, etc.)      |\n",
    "| **Feature Interaction**           | Creating features by combining two or more variables     |\n",
    "\n",
    "---"
   ]
  },
  {
   "cell_type": "code",
   "execution_count": 14,
   "metadata": {},
   "outputs": [
    {
     "data": {
      "text/plain": [
       "0    25\n",
       "1    27\n",
       "2    30\n",
       "Name: age, dtype: int32"
      ]
     },
     "execution_count": 14,
     "metadata": {},
     "output_type": "execute_result"
    }
   ],
   "source": [
    "#feature creation\n",
    "import pandas as pd\n",
    "df = pd.DataFrame({\n",
    "    'name': ['Alice', 'Bob', 'Charlie'],\n",
    "    'dob': ['2000-05-15', '1998-08-22', '1995-12-10']\n",
    "    })\n",
    "\n",
    "#convert dob to datetime\n",
    "df['dob'] = pd.to_datetime(df['dob'])\n",
    "\n",
    "#create new feaature age\n",
    "df['age'] = 2025 - df['dob'].dt.year\n",
    "\n",
    "df['age']"
   ]
  },
  {
   "cell_type": "code",
   "execution_count": 17,
   "metadata": {},
   "outputs": [
    {
     "data": {
      "text/html": [
       "<div>\n",
       "<style scoped>\n",
       "    .dataframe tbody tr th:only-of-type {\n",
       "        vertical-align: middle;\n",
       "    }\n",
       "\n",
       "    .dataframe tbody tr th {\n",
       "        vertical-align: top;\n",
       "    }\n",
       "\n",
       "    .dataframe thead th {\n",
       "        text-align: right;\n",
       "    }\n",
       "</style>\n",
       "<table border=\"1\" class=\"dataframe\">\n",
       "  <thead>\n",
       "    <tr style=\"text-align: right;\">\n",
       "      <th></th>\n",
       "      <th>salary</th>\n",
       "      <th>salary_sscaled</th>\n",
       "    </tr>\n",
       "  </thead>\n",
       "  <tbody>\n",
       "    <tr>\n",
       "      <th>0</th>\n",
       "      <td>10000</td>\n",
       "      <td>0.00</td>\n",
       "    </tr>\n",
       "    <tr>\n",
       "      <th>1</th>\n",
       "      <td>20000</td>\n",
       "      <td>0.25</td>\n",
       "    </tr>\n",
       "    <tr>\n",
       "      <th>2</th>\n",
       "      <td>30000</td>\n",
       "      <td>0.50</td>\n",
       "    </tr>\n",
       "    <tr>\n",
       "      <th>3</th>\n",
       "      <td>40000</td>\n",
       "      <td>0.75</td>\n",
       "    </tr>\n",
       "    <tr>\n",
       "      <th>4</th>\n",
       "      <td>50000</td>\n",
       "      <td>1.00</td>\n",
       "    </tr>\n",
       "  </tbody>\n",
       "</table>\n",
       "</div>"
      ],
      "text/plain": [
       "   salary  salary_sscaled\n",
       "0   10000            0.00\n",
       "1   20000            0.25\n",
       "2   30000            0.50\n",
       "3   40000            0.75\n",
       "4   50000            1.00"
      ]
     },
     "execution_count": 17,
     "metadata": {},
     "output_type": "execute_result"
    }
   ],
   "source": [
    "#feature transformation\n",
    "from sklearn.preprocessing import MinMaxScaler\n",
    "\n",
    "df = pd.DataFrame({'salary': [10000, 20000, 30000, 40000, 50000]})\n",
    "\n",
    "#apply\n",
    "scaler = MinMaxScaler()\n",
    "df['salary_sscaled'] = scaler.fit_transform(df[['salary']])\n",
    "\n",
    "df\n"
   ]
  },
  {
   "cell_type": "code",
   "execution_count": null,
   "metadata": {},
   "outputs": [
    {
     "data": {
      "text/html": [
       "<div>\n",
       "<style scoped>\n",
       "    .dataframe tbody tr th:only-of-type {\n",
       "        vertical-align: middle;\n",
       "    }\n",
       "\n",
       "    .dataframe tbody tr th {\n",
       "        vertical-align: top;\n",
       "    }\n",
       "\n",
       "    .dataframe thead th {\n",
       "        text-align: right;\n",
       "    }\n",
       "</style>\n",
       "<table border=\"1\" class=\"dataframe\">\n",
       "  <thead>\n",
       "    <tr style=\"text-align: right;\">\n",
       "      <th></th>\n",
       "      <th>city_Delhi</th>\n",
       "      <th>city_Hyderabad</th>\n",
       "      <th>city_Mumbai</th>\n",
       "    </tr>\n",
       "  </thead>\n",
       "  <tbody>\n",
       "    <tr>\n",
       "      <th>0</th>\n",
       "      <td>0.0</td>\n",
       "      <td>1.0</td>\n",
       "      <td>0.0</td>\n",
       "    </tr>\n",
       "    <tr>\n",
       "      <th>1</th>\n",
       "      <td>1.0</td>\n",
       "      <td>0.0</td>\n",
       "      <td>0.0</td>\n",
       "    </tr>\n",
       "    <tr>\n",
       "      <th>2</th>\n",
       "      <td>0.0</td>\n",
       "      <td>0.0</td>\n",
       "      <td>0.0</td>\n",
       "    </tr>\n",
       "    <tr>\n",
       "      <th>3</th>\n",
       "      <td>0.0</td>\n",
       "      <td>0.0</td>\n",
       "      <td>1.0</td>\n",
       "    </tr>\n",
       "  </tbody>\n",
       "</table>\n",
       "</div>"
      ],
      "text/plain": [
       "   city_Delhi  city_Hyderabad  city_Mumbai\n",
       "0         0.0             1.0          0.0\n",
       "1         1.0             0.0          0.0\n",
       "2         0.0             0.0          0.0\n",
       "3         0.0             0.0          1.0"
      ]
     },
     "execution_count": 33,
     "metadata": {},
     "output_type": "execute_result"
    }
   ],
   "source": [
    "#feature encoding\n",
    "from sklearn.preprocessing import OneHotEncoder\n",
    "\n",
    "df = pd.DataFrame({'city': ['Hyderabad', 'Delhi', 'Bangalore', 'Mumbai']})\n",
    "\n",
    "#ohe\n",
    "encoder = OneHotEncoder(sparse_output=False,drop='first')\n",
    "encoded = encoder.fit_transform(df)\n",
    "\n",
    "#convert to df\n",
    "df_encoded = pd.DataFrame(encoded,columns=encoder.get_feature_names_out(['city']))\n",
    "df_encoded"
   ]
  },
  {
   "cell_type": "code",
   "execution_count": 35,
   "metadata": {},
   "outputs": [
    {
     "data": {
      "text/html": [
       "<div>\n",
       "<style scoped>\n",
       "    .dataframe tbody tr th:only-of-type {\n",
       "        vertical-align: middle;\n",
       "    }\n",
       "\n",
       "    .dataframe tbody tr th {\n",
       "        vertical-align: top;\n",
       "    }\n",
       "\n",
       "    .dataframe thead th {\n",
       "        text-align: right;\n",
       "    }\n",
       "</style>\n",
       "<table border=\"1\" class=\"dataframe\">\n",
       "  <thead>\n",
       "    <tr style=\"text-align: right;\">\n",
       "      <th></th>\n",
       "      <th>Name</th>\n",
       "      <th>Salary</th>\n",
       "    </tr>\n",
       "  </thead>\n",
       "  <tbody>\n",
       "    <tr>\n",
       "      <th>0</th>\n",
       "      <td>Alice</td>\n",
       "      <td>50000</td>\n",
       "    </tr>\n",
       "    <tr>\n",
       "      <th>1</th>\n",
       "      <td>Bob</td>\n",
       "      <td>60000</td>\n",
       "    </tr>\n",
       "    <tr>\n",
       "      <th>2</th>\n",
       "      <td>Charlie</td>\n",
       "      <td>70000</td>\n",
       "    </tr>\n",
       "  </tbody>\n",
       "</table>\n",
       "</div>"
      ],
      "text/plain": [
       "      Name  Salary\n",
       "0    Alice   50000\n",
       "1      Bob   60000\n",
       "2  Charlie   70000"
      ]
     },
     "execution_count": 35,
     "metadata": {},
     "output_type": "execute_result"
    }
   ],
   "source": [
    "#feature selection\n",
    "df = pd.DataFrame({'ID': [1, 2, 3], \n",
    "                   'Name': ['Alice', 'Bob', 'Charlie'],\n",
    "                     'Salary': [50000, 60000, 70000]})\n",
    "\n",
    "#drop id column\n",
    "df = df.drop(columns=['ID'])\n",
    "df"
   ]
  }
 ],
 "metadata": {
  "kernelspec": {
   "display_name": "Python 3",
   "language": "python",
   "name": "python3"
  },
  "language_info": {
   "codemirror_mode": {
    "name": "ipython",
    "version": 3
   },
   "file_extension": ".py",
   "mimetype": "text/x-python",
   "name": "python",
   "nbconvert_exporter": "python",
   "pygments_lexer": "ipython3",
   "version": "3.12.6"
  }
 },
 "nbformat": 4,
 "nbformat_minor": 2
}
